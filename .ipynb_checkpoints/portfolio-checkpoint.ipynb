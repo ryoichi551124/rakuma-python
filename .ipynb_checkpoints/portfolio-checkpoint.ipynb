{
 "cells": [
  {
   "cell_type": "markdown",
   "metadata": {},
   "source": [
    "## **４時間でPythonアプリ開発　ポートフォリオ**"
   ]
  },
  {
   "cell_type": "markdown",
   "metadata": {},
   "source": [
    "## **ライブラリimport**"
   ]
  },
  {
   "cell_type": "code",
   "execution_count": 127,
   "metadata": {},
   "outputs": [],
   "source": [
    "import pandas as pd\n",
    "from collections import Counter\n",
    "import string\n",
    "import jctconv\n",
    "import emoji\n",
    "import re"
   ]
  },
  {
   "cell_type": "markdown",
   "metadata": {},
   "source": [
    "## **データチェック**"
   ]
  },
  {
   "cell_type": "code",
   "execution_count": 128,
   "metadata": {},
   "outputs": [
    {
     "data": {
      "text/html": [
       "<div>\n",
       "<style scoped>\n",
       "    .dataframe tbody tr th:only-of-type {\n",
       "        vertical-align: middle;\n",
       "    }\n",
       "\n",
       "    .dataframe tbody tr th {\n",
       "        vertical-align: top;\n",
       "    }\n",
       "\n",
       "    .dataframe thead th {\n",
       "        text-align: right;\n",
       "    }\n",
       "</style>\n",
       "<table border=\"1\" class=\"dataframe\">\n",
       "  <thead>\n",
       "    <tr style=\"text-align: right;\">\n",
       "      <th></th>\n",
       "      <th>date</th>\n",
       "      <th>item_url</th>\n",
       "      <th>title</th>\n",
       "      <th>price</th>\n",
       "      <th>brand</th>\n",
       "      <th>category</th>\n",
       "      <th>good</th>\n",
       "      <th>bad</th>\n",
       "      <th>normal</th>\n",
       "      <th>ship_days</th>\n",
       "      <th>comments</th>\n",
       "      <th>last_log_date</th>\n",
       "      <th>good_counts</th>\n",
       "      <th>prefecture</th>\n",
       "      <th>delivery_fee</th>\n",
       "      <th>seller_url</th>\n",
       "      <th>size</th>\n",
       "      <th>picture_url</th>\n",
       "      <th>description</th>\n",
       "      <th>details_dict</th>\n",
       "    </tr>\n",
       "  </thead>\n",
       "  <tbody>\n",
       "    <tr>\n",
       "      <th>0</th>\n",
       "      <td>2019/10/08 23:39:51</td>\n",
       "      <td>https://item.fril.jp/055f4080a2a0ae275db6ba7be...</td>\n",
       "      <td>Epiphone LTD Korina Explorer Bass</td>\n",
       "      <td>40000</td>\n",
       "      <td>Epiphone</td>\n",
       "      <td>楽器 &gt; ベース &gt; エレキベース</td>\n",
       "      <td>109</td>\n",
       "      <td>0</td>\n",
       "      <td>0</td>\n",
       "      <td>1-2日後</td>\n",
       "      <td>NaN</td>\n",
       "      <td>2000-01-01</td>\n",
       "      <td>0</td>\n",
       "      <td>岐阜県</td>\n",
       "      <td>着払い</td>\n",
       "      <td>https://fril.jp/shop/42df208014145c438f96e01f5...</td>\n",
       "      <td>なし</td>\n",
       "      <td>https://img.fril.jp/img/259586636/l/734809353....</td>\n",
       "      <td>コリーナボディ ブラックピックガード ゴールドパーツの豪華なエクスプローラー コリーナ ...</td>\n",
       "      <td>{'カテゴリ': '楽器›ベース›エレキベース', 'サイズ': 'なし', 'ブランド':...</td>\n",
       "    </tr>\n",
       "    <tr>\n",
       "      <th>1</th>\n",
       "      <td>2019/10/08 23:39:51</td>\n",
       "      <td>https://item.fril.jp/896a1d0197d05cf8431c136d9...</td>\n",
       "      <td>TVB-100 (SUN)</td>\n",
       "      <td>38000</td>\n",
       "      <td>Electric Bass(R)</td>\n",
       "      <td>楽器 &gt; ベース &gt; エレキベース</td>\n",
       "      <td>8</td>\n",
       "      <td>0</td>\n",
       "      <td>0</td>\n",
       "      <td>1-2日後</td>\n",
       "      <td>['TOKYO GUITARS', '本モデルを含め、TOKYO GUITARS工房にて製造...</td>\n",
       "      <td>2019/08/31</td>\n",
       "      <td>0</td>\n",
       "      <td>東京都</td>\n",
       "      <td>送料込</td>\n",
       "      <td>https://fril.jp/shop/bb898547c8e0369f5f6621cce...</td>\n",
       "      <td>なし</td>\n",
       "      <td>https://img.fril.jp/img/223532100/l/635334018....</td>\n",
       "      <td>Tokyo Guitars モデル名 TVB 100  SUN   Tokyo Cust...</td>\n",
       "      <td>{'カテゴリ': '楽器›ベース›エレキベース', 'サイズ': 'なし', '商品の状態'...</td>\n",
       "    </tr>\n",
       "    <tr>\n",
       "      <th>2</th>\n",
       "      <td>2019/10/08 23:39:51</td>\n",
       "      <td>https://item.fril.jp/6bdb6b4dd0f6c518938b94ec2...</td>\n",
       "      <td>TRB-4000 (BL)</td>\n",
       "      <td>42000</td>\n",
       "      <td>Electric Bass(R)</td>\n",
       "      <td>楽器 &gt; ベース &gt; エレキベース</td>\n",
       "      <td>8</td>\n",
       "      <td>0</td>\n",
       "      <td>0</td>\n",
       "      <td>1-2日後</td>\n",
       "      <td>NaN</td>\n",
       "      <td>2000-01-01</td>\n",
       "      <td>0</td>\n",
       "      <td>東京都</td>\n",
       "      <td>送料込</td>\n",
       "      <td>https://fril.jp/shop/bb898547c8e0369f5f6621cce...</td>\n",
       "      <td>なし</td>\n",
       "      <td>https://img.fril.jp/img/223294381/l/634674588....</td>\n",
       "      <td>Tokyo Guitars モデル名 TRB 4000  BL   Tokyo Cust...</td>\n",
       "      <td>{'カテゴリ': '楽器›ベース›エレキベース', 'サイズ': 'なし', '商品の状態'...</td>\n",
       "    </tr>\n",
       "    <tr>\n",
       "      <th>3</th>\n",
       "      <td>2019/10/08 23:39:51</td>\n",
       "      <td>https://item.fril.jp/b89c82258515163e5aa36aa48...</td>\n",
       "      <td>TRB-4000 (FG)</td>\n",
       "      <td>42000</td>\n",
       "      <td>Electric Bass(R)</td>\n",
       "      <td>楽器 &gt; ベース &gt; エレキベース</td>\n",
       "      <td>8</td>\n",
       "      <td>0</td>\n",
       "      <td>0</td>\n",
       "      <td>1-2日後</td>\n",
       "      <td>NaN</td>\n",
       "      <td>2000-01-01</td>\n",
       "      <td>0</td>\n",
       "      <td>東京都</td>\n",
       "      <td>送料込</td>\n",
       "      <td>https://fril.jp/shop/bb898547c8e0369f5f6621cce...</td>\n",
       "      <td>なし</td>\n",
       "      <td>https://img.fril.jp/img/223294160/l/634673947....</td>\n",
       "      <td>Tokyo Guitars モデル名 TRB 4000  FG   Tokyo Cust...</td>\n",
       "      <td>{'カテゴリ': '楽器›ベース›エレキベース', 'サイズ': 'なし', '商品の状態'...</td>\n",
       "    </tr>\n",
       "    <tr>\n",
       "      <th>4</th>\n",
       "      <td>2019/10/08 23:39:51</td>\n",
       "      <td>https://item.fril.jp/cf904ef67c6cec09a7465e7f4...</td>\n",
       "      <td>TB-100 (BRWN)</td>\n",
       "      <td>42000</td>\n",
       "      <td>Electric Bass(R)</td>\n",
       "      <td>楽器 &gt; ベース &gt; エレキベース</td>\n",
       "      <td>8</td>\n",
       "      <td>0</td>\n",
       "      <td>0</td>\n",
       "      <td>1-2日後</td>\n",
       "      <td>NaN</td>\n",
       "      <td>2000-01-01</td>\n",
       "      <td>0</td>\n",
       "      <td>東京都</td>\n",
       "      <td>送料込</td>\n",
       "      <td>https://fril.jp/shop/bb898547c8e0369f5f6621cce...</td>\n",
       "      <td>なし</td>\n",
       "      <td>https://img.fril.jp/img/216145047/l/614817207....</td>\n",
       "      <td>Tokyo Guitars モデル名 TB 100  BRWN   Tokyo Guit...</td>\n",
       "      <td>{'カテゴリ': '楽器›ベース›エレキベース', 'サイズ': 'なし', '商品の状態'...</td>\n",
       "    </tr>\n",
       "  </tbody>\n",
       "</table>\n",
       "</div>"
      ],
      "text/plain": [
       "                  date                                           item_url  \\\n",
       "0  2019/10/08 23:39:51  https://item.fril.jp/055f4080a2a0ae275db6ba7be...   \n",
       "1  2019/10/08 23:39:51  https://item.fril.jp/896a1d0197d05cf8431c136d9...   \n",
       "2  2019/10/08 23:39:51  https://item.fril.jp/6bdb6b4dd0f6c518938b94ec2...   \n",
       "3  2019/10/08 23:39:51  https://item.fril.jp/b89c82258515163e5aa36aa48...   \n",
       "4  2019/10/08 23:39:51  https://item.fril.jp/cf904ef67c6cec09a7465e7f4...   \n",
       "\n",
       "                               title  price             brand  \\\n",
       "0  Epiphone LTD Korina Explorer Bass  40000          Epiphone   \n",
       "1                      TVB-100 (SUN)  38000  Electric Bass(R)   \n",
       "2                      TRB-4000 (BL)  42000  Electric Bass(R)   \n",
       "3                      TRB-4000 (FG)  42000  Electric Bass(R)   \n",
       "4                      TB-100 (BRWN)  42000  Electric Bass(R)   \n",
       "\n",
       "            category  good  bad  normal ship_days  \\\n",
       "0  楽器 > ベース > エレキベース   109    0       0     1-2日後   \n",
       "1  楽器 > ベース > エレキベース     8    0       0     1-2日後   \n",
       "2  楽器 > ベース > エレキベース     8    0       0     1-2日後   \n",
       "3  楽器 > ベース > エレキベース     8    0       0     1-2日後   \n",
       "4  楽器 > ベース > エレキベース     8    0       0     1-2日後   \n",
       "\n",
       "                                            comments last_log_date  \\\n",
       "0                                                NaN    2000-01-01   \n",
       "1  ['TOKYO GUITARS', '本モデルを含め、TOKYO GUITARS工房にて製造...    2019/08/31   \n",
       "2                                                NaN    2000-01-01   \n",
       "3                                                NaN    2000-01-01   \n",
       "4                                                NaN    2000-01-01   \n",
       "\n",
       "   good_counts prefecture delivery_fee  \\\n",
       "0            0        岐阜県          着払い   \n",
       "1            0        東京都          送料込   \n",
       "2            0        東京都          送料込   \n",
       "3            0        東京都          送料込   \n",
       "4            0        東京都          送料込   \n",
       "\n",
       "                                          seller_url size  \\\n",
       "0  https://fril.jp/shop/42df208014145c438f96e01f5...   なし   \n",
       "1  https://fril.jp/shop/bb898547c8e0369f5f6621cce...   なし   \n",
       "2  https://fril.jp/shop/bb898547c8e0369f5f6621cce...   なし   \n",
       "3  https://fril.jp/shop/bb898547c8e0369f5f6621cce...   なし   \n",
       "4  https://fril.jp/shop/bb898547c8e0369f5f6621cce...   なし   \n",
       "\n",
       "                                         picture_url  \\\n",
       "0  https://img.fril.jp/img/259586636/l/734809353....   \n",
       "1  https://img.fril.jp/img/223532100/l/635334018....   \n",
       "2  https://img.fril.jp/img/223294381/l/634674588....   \n",
       "3  https://img.fril.jp/img/223294160/l/634673947....   \n",
       "4  https://img.fril.jp/img/216145047/l/614817207....   \n",
       "\n",
       "                                         description  \\\n",
       "0    コリーナボディ ブラックピックガード ゴールドパーツの豪華なエクスプローラー コリーナ ...   \n",
       "1    Tokyo Guitars モデル名 TVB 100  SUN   Tokyo Cust...   \n",
       "2    Tokyo Guitars モデル名 TRB 4000  BL   Tokyo Cust...   \n",
       "3    Tokyo Guitars モデル名 TRB 4000  FG   Tokyo Cust...   \n",
       "4    Tokyo Guitars モデル名 TB 100  BRWN   Tokyo Guit...   \n",
       "\n",
       "                                        details_dict  \n",
       "0  {'カテゴリ': '楽器›ベース›エレキベース', 'サイズ': 'なし', 'ブランド':...  \n",
       "1  {'カテゴリ': '楽器›ベース›エレキベース', 'サイズ': 'なし', '商品の状態'...  \n",
       "2  {'カテゴリ': '楽器›ベース›エレキベース', 'サイズ': 'なし', '商品の状態'...  \n",
       "3  {'カテゴリ': '楽器›ベース›エレキベース', 'サイズ': 'なし', '商品の状態'...  \n",
       "4  {'カテゴリ': '楽器›ベース›エレキベース', 'サイズ': 'なし', '商品の状態'...  "
      ]
     },
     "execution_count": 128,
     "metadata": {},
     "output_type": "execute_result"
    }
   ],
   "source": [
    "df = pd.read_csv('all_rakuma.csv')\n",
    "df.head()"
   ]
  },
  {
   "cell_type": "code",
   "execution_count": 129,
   "metadata": {},
   "outputs": [
    {
     "name": "stdout",
     "output_type": "stream",
     "text": [
      "<class 'pandas.core.frame.DataFrame'>\n",
      "RangeIndex: 122070 entries, 0 to 122069\n",
      "Data columns (total 20 columns):\n",
      " #   Column         Non-Null Count   Dtype \n",
      "---  ------         --------------   ----- \n",
      " 0   date           122070 non-null  object\n",
      " 1   item_url       122070 non-null  object\n",
      " 2   title          122070 non-null  object\n",
      " 3   price          122070 non-null  int64 \n",
      " 4   brand          122070 non-null  object\n",
      " 5   category       122070 non-null  object\n",
      " 6   good           122070 non-null  int64 \n",
      " 7   bad            122070 non-null  int64 \n",
      " 8   normal         122070 non-null  int64 \n",
      " 9   ship_days      122070 non-null  object\n",
      " 10  comments       11186 non-null   object\n",
      " 11  last_log_date  122070 non-null  object\n",
      " 12  good_counts    122070 non-null  int64 \n",
      " 13  prefecture     122070 non-null  object\n",
      " 14  delivery_fee   122070 non-null  object\n",
      " 15  seller_url     122070 non-null  object\n",
      " 16  size           122070 non-null  object\n",
      " 17  picture_url    122070 non-null  object\n",
      " 18  description    122066 non-null  object\n",
      " 19  details_dict   122070 non-null  object\n",
      "dtypes: int64(5), object(15)\n",
      "memory usage: 18.6+ MB\n"
     ]
    }
   ],
   "source": [
    "df.info()"
   ]
  },
  {
   "cell_type": "code",
   "execution_count": 130,
   "metadata": {},
   "outputs": [
    {
     "data": {
      "text/plain": [
       "122070"
      ]
     },
     "execution_count": 130,
     "metadata": {},
     "output_type": "execute_result"
    }
   ],
   "source": [
    "len(df)"
   ]
  },
  {
   "cell_type": "code",
   "execution_count": 131,
   "metadata": {},
   "outputs": [],
   "source": [
    "ctg_df = df.category.value_counts().reset_index()\n",
    "over1000_data = ctg_df[ctg_df.category>1000]"
   ]
  },
  {
   "cell_type": "code",
   "execution_count": 132,
   "metadata": {},
   "outputs": [
    {
     "data": {
      "text/plain": [
       "63006"
      ]
     },
     "execution_count": 132,
     "metadata": {},
     "output_type": "execute_result"
    }
   ],
   "source": [
    "over1000_data.category.sum()"
   ]
  },
  {
   "cell_type": "code",
   "execution_count": 133,
   "metadata": {},
   "outputs": [],
   "source": [
    "data = df.merge(over1000_data[['index']], left_on='category', right_on='index')"
   ]
  },
  {
   "cell_type": "code",
   "execution_count": 134,
   "metadata": {},
   "outputs": [
    {
     "data": {
      "text/plain": [
       "22"
      ]
     },
     "execution_count": 134,
     "metadata": {},
     "output_type": "execute_result"
    }
   ],
   "source": [
    "data.category.nunique()"
   ]
  },
  {
   "cell_type": "markdown",
   "metadata": {},
   "source": [
    "## **テキストの前処理を行う**"
   ]
  },
  {
   "cell_type": "code",
   "execution_count": 135,
   "metadata": {},
   "outputs": [
    {
     "data": {
      "text/plain": [
       "0           テレカ 未使用品 仮面ライダー 生誕20周年 東映ビデオ販売 販促用非売品\n",
       "1           送料無料 新品 DVD Perfume WORLD TOUR 1st 初回\n",
       "2                          ☆ウルトラマン☆レーザーディスク ジャンク？\n",
       "3             MAISHA （マイシャ）Sadao Watanabe　渡辺貞夫★LD\n",
       "4        LD★PARKER'S MOOD（パーカーズ・ムード）LIVE AT BRAVA\n",
       "                           ...                   \n",
       "63001                                   64 マリオテニス\n",
       "63002    ☆非売品☆switch ポケットモンスター ポケモンカードバトル クリアファイル\n",
       "63003    【新品未開封】大乱闘スマッシュブラザーズ SPECIAL（クロスクリーナー付き）\n",
       "63004    【新品未開封】大乱闘スマッシュブラザーズ SPECIAL（クロスクリーナー付き）\n",
       "63005    【新品未開封】大乱闘スマッシュブラザーズ SPECIAL（クロスクリーナー付き）\n",
       "Name: title, Length: 63006, dtype: object"
      ]
     },
     "execution_count": 135,
     "metadata": {},
     "output_type": "execute_result"
    }
   ],
   "source": [
    "data.title"
   ]
  },
  {
   "cell_type": "code",
   "execution_count": 136,
   "metadata": {},
   "outputs": [],
   "source": [
    "emojis = \"\".join(emoji.UNICODE_EMOJI.keys())"
   ]
  },
  {
   "cell_type": "code",
   "execution_count": 137,
   "metadata": {},
   "outputs": [],
   "source": [
    "puncs = string.punctuation + \"◆▼★②●☆■★【】『』「」、♪\""
   ]
  },
  {
   "cell_type": "code",
   "execution_count": 138,
   "metadata": {},
   "outputs": [],
   "source": [
    "def han2zen(txt):\n",
    "    txt = jctconv.h2z(txt, kana=True, digit=False, ascii=False)\n",
    "    return jctconv.z2h(txt, kana=False, digit=True, ascii=True)\n",
    "\n",
    "def remove_signs(txt):\n",
    "    rm_signs = emojis + puncs\n",
    "    for s in rm_signs:\n",
    "        txt = txt.replace(s, \" \")\n",
    "    return txt\n",
    "\n",
    "def clean_txt(txt):\n",
    "    txt = han2zen(txt)\n",
    "    txt = remove_signs(txt)\n",
    "    txt_list = txt.upper().split()\n",
    "    txt_list = [x for x in txt_list if len(x) > 1 and re.search(r\"[亜-熙ぁ-んァ-ヶa-zA-Z]\", x)]\n",
    "    return list(Counter(txt_list))"
   ]
  },
  {
   "cell_type": "code",
   "execution_count": 140,
   "metadata": {},
   "outputs": [
    {
     "data": {
      "text/plain": [
       "0           テレカ 未使用品 仮面ライダー 生誕20周年 東映ビデオ販売 販促用非売品\n",
       "1           送料無料 新品 DVD Perfume WORLD TOUR 1st 初回\n",
       "2                          ☆ウルトラマン☆レーザーディスク ジャンク？\n",
       "3             MAISHA （マイシャ）Sadao Watanabe　渡辺貞夫★LD\n",
       "4        LD★PARKER'S MOOD（パーカーズ・ムード）LIVE AT BRAVA\n",
       "                           ...                   \n",
       "63001                                   64 マリオテニス\n",
       "63002    ☆非売品☆switch ポケットモンスター ポケモンカードバトル クリアファイル\n",
       "63003    【新品未開封】大乱闘スマッシュブラザーズ SPECIAL（クロスクリーナー付き）\n",
       "63004    【新品未開封】大乱闘スマッシュブラザーズ SPECIAL（クロスクリーナー付き）\n",
       "63005    【新品未開封】大乱闘スマッシュブラザーズ SPECIAL（クロスクリーナー付き）\n",
       "Name: title, Length: 63006, dtype: object"
      ]
     },
     "execution_count": 140,
     "metadata": {},
     "output_type": "execute_result"
    }
   ],
   "source": [
    "data.title"
   ]
  },
  {
   "cell_type": "code",
   "execution_count": 141,
   "metadata": {},
   "outputs": [
    {
     "data": {
      "text/plain": [
       "63001                                         [マリオテニス]\n",
       "63002    [非売品, SWITCH, ポケットモンスター, ポケモンカードバトル, クリアファイル]\n",
       "63003      [新品未開封, 大乱闘スマッシュブラザーズ, SPECIAL, クロスクリーナー付き]\n",
       "63004      [新品未開封, 大乱闘スマッシュブラザーズ, SPECIAL, クロスクリーナー付き]\n",
       "63005      [新品未開封, 大乱闘スマッシュブラザーズ, SPECIAL, クロスクリーナー付き]\n",
       "Name: title, dtype: object"
      ]
     },
     "execution_count": 141,
     "metadata": {},
     "output_type": "execute_result"
    }
   ],
   "source": [
    "data.tail().title.apply(clean_txt)"
   ]
  },
  {
   "cell_type": "markdown",
   "metadata": {},
   "source": [
    "## **テキストを数値に置き換える**"
   ]
  },
  {
   "cell_type": "code",
   "execution_count": 172,
   "metadata": {},
   "outputs": [],
   "source": [
    "from sklearn.pipeline import Pipeline\n",
    "from sklearn.metrics import classification_report\n",
    "from sklearn.model_selection import train_test_split\n",
    "from sklearn.feature_extraction.text import CountVectorizer, TfidfTransformer\n",
    "from sklearn.ensemble import RandomForestClassifier\n",
    "from sklearn.naive_bayes import MultinomialNB"
   ]
  },
  {
   "cell_type": "code",
   "execution_count": 173,
   "metadata": {},
   "outputs": [],
   "source": [
    "category2idx = {c: idx for idx, c in enumerate(data.category.unique())}\n",
    "idx2category = {idx: c for idx, c in enumerate(data.category.unique())}"
   ]
  },
  {
   "cell_type": "code",
   "execution_count": 174,
   "metadata": {},
   "outputs": [],
   "source": [
    "x = data.title\n",
    "y = data.category.apply(lambda x: category2idx[x])"
   ]
  },
  {
   "cell_type": "markdown",
   "metadata": {},
   "source": [
    "## **データを学習させる**"
   ]
  },
  {
   "cell_type": "code",
   "execution_count": 210,
   "metadata": {},
   "outputs": [],
   "source": [
    "x_train, x_test, y_train, y_test = train_test_split(x, y, test_size=0.33, random_state=42)"
   ]
  },
  {
   "cell_type": "code",
   "execution_count": 211,
   "metadata": {},
   "outputs": [],
   "source": [
    "pipeline = Pipeline([\n",
    "    ('bow', CountVectorizer()),\n",
    "    ('tfidf', TfidfTransformer()),\n",
    "    ('classifier', RandomForestClassifier())\n",
    "])"
   ]
  },
  {
   "cell_type": "code",
   "execution_count": 212,
   "metadata": {},
   "outputs": [
    {
     "data": {
      "text/plain": [
       "Pipeline(steps=[('bow', CountVectorizer()), ('tfidf', TfidfTransformer()),\n",
       "                ('classifier', RandomForestClassifier())])"
      ]
     },
     "execution_count": 212,
     "metadata": {},
     "output_type": "execute_result"
    }
   ],
   "source": [
    "pipeline.fit(x_train, y_train)"
   ]
  },
  {
   "cell_type": "code",
   "execution_count": 213,
   "metadata": {},
   "outputs": [],
   "source": [
    "pred = pipeline.predict(x_test)"
   ]
  },
  {
   "cell_type": "markdown",
   "metadata": {},
   "source": [
    "## **精度を評価する**"
   ]
  },
  {
   "cell_type": "code",
   "execution_count": 214,
   "metadata": {},
   "outputs": [
    {
     "name": "stdout",
     "output_type": "stream",
     "text": [
      "              precision    recall  f1-score   support\n",
      "\n",
      "           0       0.87      0.66      0.75       406\n",
      "           1       0.89      0.93      0.91      1189\n",
      "           2       0.90      0.77      0.83       422\n",
      "           3       0.89      0.82      0.85       699\n",
      "           4       0.63      0.88      0.73      3577\n",
      "           5       0.73      0.37      0.49       395\n",
      "           6       0.89      0.82      0.85      2138\n",
      "           7       0.85      0.80      0.82      1033\n",
      "           8       0.94      0.88      0.90       460\n",
      "           9       0.95      0.81      0.87       379\n",
      "          10       0.98      0.83      0.90       871\n",
      "          11       0.80      0.58      0.68       481\n",
      "          12       0.88      0.73      0.80       430\n",
      "          13       0.93      0.79      0.86       399\n",
      "          14       0.99      0.95      0.97       535\n",
      "          15       0.94      0.90      0.92       830\n",
      "          16       0.99      0.78      0.87       396\n",
      "          17       0.98      0.97      0.97      3673\n",
      "          18       1.00      0.97      0.98       964\n",
      "          19       0.94      0.86      0.90       694\n",
      "          20       0.97      0.77      0.86       346\n",
      "          21       0.91      0.76      0.83       475\n",
      "\n",
      "    accuracy                           0.86     20792\n",
      "   macro avg       0.90      0.80      0.84     20792\n",
      "weighted avg       0.87      0.86      0.86     20792\n",
      "\n"
     ]
    }
   ],
   "source": [
    "print(classification_report(y_test, pred))"
   ]
  },
  {
   "cell_type": "markdown",
   "metadata": {},
   "source": [
    "## **学習済みモデルを保存する**"
   ]
  },
  {
   "cell_type": "code",
   "execution_count": 215,
   "metadata": {},
   "outputs": [
    {
     "data": {
      "text/plain": [
       "array([17])"
      ]
     },
     "execution_count": 215,
     "metadata": {},
     "output_type": "execute_result"
    }
   ],
   "source": [
    "target = ['NIKE AIR FORCE 1 LOW QS PUERTO RICO 2020']\n",
    "prediction = pipeline.predict(target)\n",
    "prediction"
   ]
  },
  {
   "cell_type": "code",
   "execution_count": 216,
   "metadata": {},
   "outputs": [
    {
     "data": {
      "text/plain": [
       "'メンズ > 靴/シューズ > スニーカー'"
      ]
     },
     "execution_count": 216,
     "metadata": {},
     "output_type": "execute_result"
    }
   ],
   "source": [
    "idx2category[prediction[0]]"
   ]
  },
  {
   "cell_type": "code",
   "execution_count": 217,
   "metadata": {},
   "outputs": [],
   "source": [
    "import pickle"
   ]
  },
  {
   "cell_type": "code",
   "execution_count": 223,
   "metadata": {},
   "outputs": [],
   "source": [
    "with open('rdmf.pickle', mode='wb') as f:\n",
    "    pickle.dump(pipeline, f)"
   ]
  },
  {
   "cell_type": "code",
   "execution_count": 224,
   "metadata": {},
   "outputs": [],
   "source": [
    "with open('rdmf.pickle', mode='rb') as ff:\n",
    "    model = pickle.load(ff)"
   ]
  },
  {
   "cell_type": "code",
   "execution_count": 225,
   "metadata": {},
   "outputs": [],
   "source": [
    "pd.DataFrame([\n",
    "    {'k': k, 'v': v}\n",
    "    for k, v in idx2category.items()\n",
    "]).to_csv('idx2category.csv', index=False)"
   ]
  },
  {
   "cell_type": "code",
   "execution_count": 226,
   "metadata": {},
   "outputs": [
    {
     "name": "stdout",
     "output_type": "stream",
     "text": [
      "\u001b[34mApplications\u001b[m\u001b[m/        \u001b[34mLibrary\u001b[m\u001b[m/             all_rakuma.csv\n",
      "\u001b[34mDesktop\u001b[m\u001b[m/             \u001b[34mMovies\u001b[m\u001b[m/              idx2category.csv\n",
      "\u001b[34mDocuments\u001b[m\u001b[m/           \u001b[34mMusic\u001b[m\u001b[m/               \u001b[34mopt\u001b[m\u001b[m/\n",
      "\u001b[34mDownloads\u001b[m\u001b[m/           \u001b[34mPictures\u001b[m\u001b[m/            portfolio.ipynb\n",
      "\u001b[34mGoogle ドライブ\u001b[m\u001b[m/     \u001b[34mPublic\u001b[m\u001b[m/              rdmf.pickle\n"
     ]
    }
   ],
   "source": [
    "ls"
   ]
  },
  {
   "cell_type": "code",
   "execution_count": null,
   "metadata": {},
   "outputs": [],
   "source": []
  }
 ],
 "metadata": {
  "kernelspec": {
   "display_name": "portfolio",
   "language": "python",
   "name": "portfolio"
  },
  "language_info": {
   "codemirror_mode": {
    "name": "ipython",
    "version": 3
   },
   "file_extension": ".py",
   "mimetype": "text/x-python",
   "name": "python",
   "nbconvert_exporter": "python",
   "pygments_lexer": "ipython3",
   "version": "3.8.3"
  }
 },
 "nbformat": 4,
 "nbformat_minor": 4
}
